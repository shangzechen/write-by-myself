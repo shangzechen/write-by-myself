{
  "nbformat": 4,
  "nbformat_minor": 0,
  "metadata": {
    "colab": {
      "name": "data preprocessing & SVM",
      "provenance": [],
      "authorship_tag": "ABX9TyM130SB7LPHT8n/qwuK3YGa",
      "include_colab_link": true
    },
    "kernelspec": {
      "name": "python3",
      "display_name": "Python 3"
    },
    "language_info": {
      "name": "python"
    }
  },
  "cells": [
    {
      "cell_type": "markdown",
      "metadata": {
        "id": "view-in-github",
        "colab_type": "text"
      },
      "source": [
        "<a href=\"https://colab.research.google.com/github/shangzechen/write-by-myself/blob/main/data_preprocessing_%26_SVM.ipynb\" target=\"_parent\"><img src=\"https://colab.research.google.com/assets/colab-badge.svg\" alt=\"Open In Colab\"/></a>"
      ]
    },
    {
      "cell_type": "code",
      "execution_count": null,
      "metadata": {
        "id": "KqxN3_iGoOzy"
      },
      "outputs": [],
      "source": [
        "import numpy as np\n",
        "import pandas as pd\n",
        "from sklearn import svm\n",
        "from sklearn.metrics import accuracy_score, confusion_matrix\n",
        "import joblib\n",
        "from sklearn.model_selection import train_test_split\n",
        "import matplotlib.pyplot as plt\n",
        "########################################################################################\n",
        "\n",
        "###############################数据种类为 float64 ###############################\n",
        "# 故障数据集\n",
        "abnormal_data=pd.read_csv('/content/abnormal_data.csv', sep=',',header=0)\n",
        "#abnormal_data_label=pd.read_csv('/content/abnormal_data_label.csv', sep=',',header=0)\n",
        "\n",
        "#正常数据集\n",
        "normal_data=pd.read_csv('/content/normal_data.csv', sep=',',header=0)\n",
        "#normal_data_label=pd.read_csv('/content/normal_data_label.csv', sep=',',header=0)\n",
        "\n",
        "\n",
        "###############################数据种类为 float64 ###############################\n",
        "\n",
        "\n",
        "####################### 标签的数据种类为 float64 #################################\n",
        "\n",
        "#正常数据集标签\n",
        "normal_data_label=np.zeros(434)\n",
        "\n",
        "#故障数据集标签\n",
        "abnormal_data_label=np.ones(440)\n",
        "\n",
        "####################### 标签的数据种类为 float64#################################\n",
        "\n",
        "#正常的数据集与数据集标签先等比例划分\n",
        "x=normal_data\n",
        "y=normal_data_label\n",
        "#print(x)\n",
        "#print(y)\n",
        "\n",
        "normal_trainset, normal_testset, normal_trainset_label, normal_testset_label = train_test_split(x, y, test_size=0.5, random_state=42)\n",
        "#print(normal_trainset)\n",
        "#print(normal_testset)\n",
        "#print(normal_trainset_label)\n",
        "#print(normalnormal_testset_label)\n",
        "\n",
        "#异常的数据集与数据集标签先等比例划分\n",
        "\n",
        "a=abnormal_data\n",
        "b=abnormal_data_label\n",
        "#print(a)\n",
        "#print(b)\n",
        "\n",
        "abnormal_trainset, abnormal_testset, abnormal_trainset_label, abnormal_testset_label = train_test_split(a, b, test_size=0.5, random_state=42)\n",
        "\n",
        "\n",
        "#print(abnormal_trainset)\n",
        "#print(abnormal_testset)\n",
        "#print(abnormal_trainset_label)\n",
        "#print(abnormalnormal_testset_label)\n",
        "#print(abnormal_data_label.shape)\n",
        "#abnormal_data.shape\n",
        "\n",
        "##############合并并生成 train ， test, train label, test label #################\n",
        "\n",
        "train_dataset = np.concatenate((normal_trainset,abnormal_trainset), axis=0, out=None)\n",
        "#print(train_dataset)\n",
        "\n",
        "train_dataset_label = np.concatenate((normal_trainset_label,abnormal_trainset_label), axis=0, out=None)\n",
        "#print(train_dataset_label)\n",
        "\n",
        "test_dataset = np.concatenate((normal_testset,abnormal_testset), axis=0, out=None)\n",
        "#print(test_dataset)\n",
        "\n",
        "test_dataset_label = np.concatenate((normal_testset_label,abnormal_testset_label), axis=0, out=None)\n",
        "#print(test_dataset_label)\n",
        "#print(abnormal_testset.dtypes)\n",
        "#print(train_dataset_label)\n",
        "\n",
        "#########################################################################导入模型###############################################################################################\n",
        "\n"
      ]
    },
    {
      "cell_type": "code",
      "source": [
        "model = svm.SVC(kernel='rbf',degree=2)\n",
        "model.fit(train_dataset,train_dataset_label)\n",
        "\n",
        "test_set_predict=model.predict(test_dataset)\n",
        "\n",
        "accuracy=accuracy_score(test_dataset_label,test_set_predict)\n",
        "cfm=confusion_matrix(test_dataset_label,test_set_predict)\n",
        "\n",
        "print(\"2nd degree polynomial kernel\\nAccuracy(normalized):\" + str(accuracy)+'\\n')\n",
        "print('confusion matrix:\\n',cfm)"
      ],
      "metadata": {
        "colab": {
          "base_uri": "https://localhost:8080/"
        },
        "id": "XkKk7C8M7Cd3",
        "outputId": "609f7f07-256a-4fd2-ca79-56893e8af8eb"
      },
      "execution_count": null,
      "outputs": [
        {
          "output_type": "stream",
          "name": "stdout",
          "text": [
            "2nd degree polynomial kernel\n",
            "Accuracy(normalized):1.0\n",
            "\n",
            "confusion matrix:\n",
            " [[217   0]\n",
            " [  0 220]]\n"
          ]
        }
      ]
    },
    {
      "cell_type": "code",
      "source": [
        "from google.colab import drive\n",
        "drive.mount('/content/drive')"
      ],
      "metadata": {
        "id": "Y0WUQ2EH7W2Q",
        "outputId": "b96d1fda-9ef3-4ab3-e45b-8321398352f0",
        "colab": {
          "base_uri": "https://localhost:8080/",
          "height": 329
        }
      },
      "execution_count": null,
      "outputs": [
        {
          "output_type": "error",
          "ename": "MessageError",
          "evalue": "ignored",
          "traceback": [
            "\u001b[0;31m---------------------------------------------------------------------------\u001b[0m",
            "\u001b[0;31mMessageError\u001b[0m                              Traceback (most recent call last)",
            "\u001b[0;32m<ipython-input-37-d5df0069828e>\u001b[0m in \u001b[0;36m<module>\u001b[0;34m()\u001b[0m\n\u001b[1;32m      1\u001b[0m \u001b[0;32mfrom\u001b[0m \u001b[0mgoogle\u001b[0m\u001b[0;34m.\u001b[0m\u001b[0mcolab\u001b[0m \u001b[0;32mimport\u001b[0m \u001b[0mdrive\u001b[0m\u001b[0;34m\u001b[0m\u001b[0;34m\u001b[0m\u001b[0m\n\u001b[0;32m----> 2\u001b[0;31m \u001b[0mdrive\u001b[0m\u001b[0;34m.\u001b[0m\u001b[0mmount\u001b[0m\u001b[0;34m(\u001b[0m\u001b[0;34m'/content/drive'\u001b[0m\u001b[0;34m)\u001b[0m\u001b[0;34m\u001b[0m\u001b[0;34m\u001b[0m\u001b[0m\n\u001b[0m",
            "\u001b[0;32m/usr/local/lib/python3.7/dist-packages/google/colab/drive.py\u001b[0m in \u001b[0;36mmount\u001b[0;34m(mountpoint, force_remount, timeout_ms, use_metadata_server)\u001b[0m\n\u001b[1;32m    111\u001b[0m       \u001b[0mtimeout_ms\u001b[0m\u001b[0;34m=\u001b[0m\u001b[0mtimeout_ms\u001b[0m\u001b[0;34m,\u001b[0m\u001b[0;34m\u001b[0m\u001b[0;34m\u001b[0m\u001b[0m\n\u001b[1;32m    112\u001b[0m       \u001b[0muse_metadata_server\u001b[0m\u001b[0;34m=\u001b[0m\u001b[0muse_metadata_server\u001b[0m\u001b[0;34m,\u001b[0m\u001b[0;34m\u001b[0m\u001b[0;34m\u001b[0m\u001b[0m\n\u001b[0;32m--> 113\u001b[0;31m       ephemeral=ephemeral)\n\u001b[0m\u001b[1;32m    114\u001b[0m \u001b[0;34m\u001b[0m\u001b[0m\n\u001b[1;32m    115\u001b[0m \u001b[0;34m\u001b[0m\u001b[0m\n",
            "\u001b[0;32m/usr/local/lib/python3.7/dist-packages/google/colab/drive.py\u001b[0m in \u001b[0;36m_mount\u001b[0;34m(mountpoint, force_remount, timeout_ms, use_metadata_server, ephemeral)\u001b[0m\n\u001b[1;32m    134\u001b[0m   \u001b[0;32mif\u001b[0m \u001b[0mephemeral\u001b[0m\u001b[0;34m:\u001b[0m\u001b[0;34m\u001b[0m\u001b[0;34m\u001b[0m\u001b[0m\n\u001b[1;32m    135\u001b[0m     _message.blocking_request(\n\u001b[0;32m--> 136\u001b[0;31m         'request_auth', request={'authType': 'dfs_ephemeral'}, timeout_sec=None)\n\u001b[0m\u001b[1;32m    137\u001b[0m \u001b[0;34m\u001b[0m\u001b[0m\n\u001b[1;32m    138\u001b[0m   \u001b[0mmountpoint\u001b[0m \u001b[0;34m=\u001b[0m \u001b[0m_os\u001b[0m\u001b[0;34m.\u001b[0m\u001b[0mpath\u001b[0m\u001b[0;34m.\u001b[0m\u001b[0mexpanduser\u001b[0m\u001b[0;34m(\u001b[0m\u001b[0mmountpoint\u001b[0m\u001b[0;34m)\u001b[0m\u001b[0;34m\u001b[0m\u001b[0;34m\u001b[0m\u001b[0m\n",
            "\u001b[0;32m/usr/local/lib/python3.7/dist-packages/google/colab/_message.py\u001b[0m in \u001b[0;36mblocking_request\u001b[0;34m(request_type, request, timeout_sec, parent)\u001b[0m\n\u001b[1;32m    173\u001b[0m   request_id = send_request(\n\u001b[1;32m    174\u001b[0m       request_type, request, parent=parent, expect_reply=True)\n\u001b[0;32m--> 175\u001b[0;31m   \u001b[0;32mreturn\u001b[0m \u001b[0mread_reply_from_input\u001b[0m\u001b[0;34m(\u001b[0m\u001b[0mrequest_id\u001b[0m\u001b[0;34m,\u001b[0m \u001b[0mtimeout_sec\u001b[0m\u001b[0;34m)\u001b[0m\u001b[0;34m\u001b[0m\u001b[0;34m\u001b[0m\u001b[0m\n\u001b[0m",
            "\u001b[0;32m/usr/local/lib/python3.7/dist-packages/google/colab/_message.py\u001b[0m in \u001b[0;36mread_reply_from_input\u001b[0;34m(message_id, timeout_sec)\u001b[0m\n\u001b[1;32m    104\u001b[0m         reply.get('colab_msg_id') == message_id):\n\u001b[1;32m    105\u001b[0m       \u001b[0;32mif\u001b[0m \u001b[0;34m'error'\u001b[0m \u001b[0;32min\u001b[0m \u001b[0mreply\u001b[0m\u001b[0;34m:\u001b[0m\u001b[0;34m\u001b[0m\u001b[0;34m\u001b[0m\u001b[0m\n\u001b[0;32m--> 106\u001b[0;31m         \u001b[0;32mraise\u001b[0m \u001b[0mMessageError\u001b[0m\u001b[0;34m(\u001b[0m\u001b[0mreply\u001b[0m\u001b[0;34m[\u001b[0m\u001b[0;34m'error'\u001b[0m\u001b[0;34m]\u001b[0m\u001b[0;34m)\u001b[0m\u001b[0;34m\u001b[0m\u001b[0;34m\u001b[0m\u001b[0m\n\u001b[0m\u001b[1;32m    107\u001b[0m       \u001b[0;32mreturn\u001b[0m \u001b[0mreply\u001b[0m\u001b[0;34m.\u001b[0m\u001b[0mget\u001b[0m\u001b[0;34m(\u001b[0m\u001b[0;34m'data'\u001b[0m\u001b[0;34m,\u001b[0m \u001b[0;32mNone\u001b[0m\u001b[0;34m)\u001b[0m\u001b[0;34m\u001b[0m\u001b[0;34m\u001b[0m\u001b[0m\n\u001b[1;32m    108\u001b[0m \u001b[0;34m\u001b[0m\u001b[0m\n",
            "\u001b[0;31mMessageError\u001b[0m: Error: credential propagation was unsuccessful"
          ]
        }
      ]
    }
  ]
}